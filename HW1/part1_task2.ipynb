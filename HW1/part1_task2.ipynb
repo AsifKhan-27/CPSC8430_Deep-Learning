{
 "cells": [
  {
   "cell_type": "code",
   "execution_count": 1,
   "metadata": {
    "executionInfo": {
     "elapsed": 279,
     "status": "ok",
     "timestamp": 1726860352255,
     "user": {
      "displayName": "Asif Ahmed Khan",
      "userId": "17451503115257103036"
     },
     "user_tz": 240
    },
    "id": "9RwaZbV6S9sc"
   },
   "outputs": [],
   "source": [
    "# Train on actual task"
   ]
  },
  {
   "cell_type": "code",
   "execution_count": null,
   "metadata": {
    "executionInfo": {
     "elapsed": 12322,
     "status": "ok",
     "timestamp": 1726860364771,
     "user": {
      "displayName": "Asif Ahmed Khan",
      "userId": "17451503115257103036"
     },
     "user_tz": 240
    },
    "id": "97HW4NvVQGBv"
   },
   "outputs": [],
   "source": [
    "import numpy as np\n",
    "import pandas as pd\n",
    "import torch\n",
    "import torch.nn as nn\n",
    "import torch.optim as optim\n",
    "from torchvision import datasets, transforms\n",
    "from torch.utils.data import DataLoader, Dataset\n",
    "import matplotlib.pyplot as plt"
   ]
  },
  {
   "cell_type": "code",
   "execution_count": null,
   "metadata": {
    "executionInfo": {
     "elapsed": 202,
     "status": "ok",
     "timestamp": 1726860364941,
     "user": {
      "displayName": "Asif Ahmed Khan",
      "userId": "17451503115257103036"
     },
     "user_tz": 240
    },
    "id": "Ef-VUwPrQJ0z"
   },
   "outputs": [],
   "source": [
    "# Device configuration\n",
    "device = torch.device('cuda' if torch.cuda.is_available() else 'cpu')"
   ]
  },
  {
   "cell_type": "code",
   "execution_count": null,
   "metadata": {
    "colab": {
     "base_uri": "https://localhost:8080/"
    },
    "executionInfo": {
     "elapsed": 6336,
     "status": "ok",
     "timestamp": 1726860371272,
     "user": {
      "displayName": "Asif Ahmed Khan",
      "userId": "17451503115257103036"
     },
     "user_tz": 240
    },
    "id": "jOWQQRg6QSZ9",
    "outputId": "87e4c9e5-197f-469e-9414-4a5c262bf14f"
   },
   "outputs": [],
   "source": [
    "# MNIST dataset\n",
    "train_dataset = datasets.MNIST(root='./data', train=True, transform=transforms.ToTensor(), download=True)\n",
    "test_dataset = datasets.MNIST(root='./data', train=False, transform=transforms.ToTensor())"
   ]
  },
  {
   "cell_type": "code",
   "execution_count": null,
   "metadata": {
    "colab": {
     "base_uri": "https://localhost:8080/"
    },
    "executionInfo": {
     "elapsed": 202,
     "status": "ok",
     "timestamp": 1726860371453,
     "user": {
      "displayName": "Asif Ahmed Khan",
      "userId": "17451503115257103036"
     },
     "user_tz": 240
    },
    "id": "IUvdf_DVGmGf",
    "outputId": "fd215644-8d84-4963-fa1e-d27c2e06b499"
   },
   "outputs": [],
   "source": [
    "print(f\"train_dataset: {train_dataset}\")\n",
    "print(f\"test_dataset: {test_dataset}\")"
   ]
  },
  {
   "cell_type": "markdown",
   "metadata": {
    "id": "CVw-UDHfR0rQ"
   },
   "source": []
  },
  {
   "cell_type": "code",
   "execution_count": 6,
   "metadata": {
    "executionInfo": {
     "elapsed": 15,
     "status": "ok",
     "timestamp": 1726860371453,
     "user": {
      "displayName": "Asif Ahmed Khan",
      "userId": "17451503115257103036"
     },
     "user_tz": 240
    },
    "id": "vTL58Ux6RcFy"
   },
   "outputs": [],
   "source": [
    "# Hyperparameters\n",
    "input_size = 784  # MNIST image size (28x28) flattened\n",
    "num_classes = 10  # Number of output classes for MNIST (digits 0-9)\n",
    "num_epochs = 50\n",
    "batch_size = 64\n",
    "learning_rate = 0.001"
   ]
  },
  {
   "cell_type": "code",
   "execution_count": 7,
   "metadata": {
    "executionInfo": {
     "elapsed": 15,
     "status": "ok",
     "timestamp": 1726860371454,
     "user": {
      "displayName": "Asif Ahmed Khan",
      "userId": "17451503115257103036"
     },
     "user_tz": 240
    },
    "id": "4N11dNRlQXbv"
   },
   "outputs": [],
   "source": [
    "# Data loader\n",
    "train_loader = DataLoader(dataset=train_dataset, batch_size=batch_size, shuffle=True)\n",
    "test_loader = DataLoader(dataset=test_dataset, batch_size=batch_size, shuffle=False)"
   ]
  },
  {
   "cell_type": "code",
   "execution_count": 8,
   "metadata": {
    "executionInfo": {
     "elapsed": 14,
     "status": "ok",
     "timestamp": 1726860371454,
     "user": {
      "displayName": "Asif Ahmed Khan",
      "userId": "17451503115257103036"
     },
     "user_tz": 240
    },
    "id": "yZJqK-TpQdlG"
   },
   "outputs": [],
   "source": [
    "# Shallow model\n",
    "class ShallowModel(nn.Module):\n",
    "    def __init__(self):\n",
    "        super(ShallowModel, self).__init__()\n",
    "        self.fc1 = nn.Linear(input_size, 50)\n",
    "        self.fc2 = nn.Linear(50, num_classes)\n",
    "\n",
    "    def forward(self, x):\n",
    "        x = x.view(-1, input_size)  # Flatten the input image\n",
    "        x = torch.relu(self.fc1(x))\n",
    "        x = self.fc2(x)\n",
    "        return x"
   ]
  },
  {
   "cell_type": "code",
   "execution_count": 9,
   "metadata": {
    "executionInfo": {
     "elapsed": 13,
     "status": "ok",
     "timestamp": 1726860371454,
     "user": {
      "displayName": "Asif Ahmed Khan",
      "userId": "17451503115257103036"
     },
     "user_tz": 240
    },
    "id": "lS2Lw5k2QggR"
   },
   "outputs": [],
   "source": [
    "# Deep model\n",
    "class DeepModel(nn.Module):\n",
    "    def __init__(self):\n",
    "        super(DeepModel, self).__init__()\n",
    "        self.fc1 = nn.Linear(input_size, 20)\n",
    "        self.fc2 = nn.Linear(20, 20)\n",
    "        self.fc3 = nn.Linear(20, 20)\n",
    "        self.fc4 = nn.Linear(20, num_classes)  # Output layer\n",
    "\n",
    "    def forward(self, x):\n",
    "        x = x.view(-1, input_size)  # Flatten the input image\n",
    "        x = torch.relu(self.fc1(x))\n",
    "        x = torch.relu(self.fc2(x))\n",
    "        x = torch.relu(self.fc3(x))\n",
    "        x = self.fc4(x)\n",
    "        return x"
   ]
  },
  {
   "cell_type": "code",
   "execution_count": 10,
   "metadata": {
    "executionInfo": {
     "elapsed": 395,
     "status": "ok",
     "timestamp": 1726860371837,
     "user": {
      "displayName": "Asif Ahmed Khan",
      "userId": "17451503115257103036"
     },
     "user_tz": 240
    },
    "id": "MS-ugQzoQkQk"
   },
   "outputs": [],
   "source": [
    "# Initialize models\n",
    "shallow_model = ShallowModel().to(device)\n",
    "deep_model = DeepModel().to(device)"
   ]
  },
  {
   "cell_type": "code",
   "execution_count": 11,
   "metadata": {
    "colab": {
     "base_uri": "https://localhost:8080/"
    },
    "executionInfo": {
     "elapsed": 13,
     "status": "ok",
     "timestamp": 1726860371838,
     "user": {
      "displayName": "Asif Ahmed Khan",
      "userId": "17451503115257103036"
     },
     "user_tz": 240
    },
    "id": "l_jncK9zOUDg",
    "outputId": "e9320a11-cc0d-4fdb-aa1d-d48ae172f8c9"
   },
   "outputs": [
    {
     "name": "stdout",
     "output_type": "stream",
     "text": [
      "<bound method Module.parameters of ShallowModel(\n",
      "  (fc1): Linear(in_features=784, out_features=50, bias=True)\n",
      "  (fc2): Linear(in_features=50, out_features=10, bias=True)\n",
      ")>\n",
      "39760\n",
      "<bound method Module.parameters of DeepModel(\n",
      "  (fc1): Linear(in_features=784, out_features=20, bias=True)\n",
      "  (fc2): Linear(in_features=20, out_features=20, bias=True)\n",
      "  (fc3): Linear(in_features=20, out_features=20, bias=True)\n",
      "  (fc4): Linear(in_features=20, out_features=10, bias=True)\n",
      ")>\n",
      "16750\n"
     ]
    }
   ],
   "source": [
    "print(shallow_model.parameters)\n",
    "# total_params = sum(p.numel() for p in shallow_model.parameters())\n",
    "shallow_total_params = sum(p.numel() for p in shallow_model.parameters() if p.requires_grad)\n",
    "print(shallow_total_params)\n",
    "\n",
    "print(deep_model.parameters)\n",
    "deep_total_params = sum(p.numel() for p in deep_model.parameters() if p.requires_grad)\n",
    "print(deep_total_params)"
   ]
  },
  {
   "cell_type": "code",
   "execution_count": 12,
   "metadata": {
    "executionInfo": {
     "elapsed": 9,
     "status": "ok",
     "timestamp": 1726860371838,
     "user": {
      "displayName": "Asif Ahmed Khan",
      "userId": "17451503115257103036"
     },
     "user_tz": 240
    },
    "id": "BzyFA4GbQUye"
   },
   "outputs": [],
   "source": [
    "# Loss and optimizer\n",
    "criterion = nn.CrossEntropyLoss()\n",
    "optimizer_shallow = optim.Adam(shallow_model.parameters(), lr=learning_rate)\n",
    "optimizer_deep = optim.Adam(deep_model.parameters(), lr=learning_rate)"
   ]
  },
  {
   "cell_type": "code",
   "execution_count": 13,
   "metadata": {
    "executionInfo": {
     "elapsed": 9,
     "status": "ok",
     "timestamp": 1726860371839,
     "user": {
      "displayName": "Asif Ahmed Khan",
      "userId": "17451503115257103036"
     },
     "user_tz": 240
    },
    "id": "juBzGmieQq19"
   },
   "outputs": [],
   "source": [
    "# Training function\n",
    "def train(model, optimizer, num_epochs):\n",
    "    # set model to training mode\n",
    "    model.train()\n",
    "    loss_list = []\n",
    "    accuracy_list = []\n",
    "    for epoch in range(num_epochs):\n",
    "        total_loss = 0\n",
    "        correct_predictions = 0\n",
    "        total_predictions = 0\n",
    "        for batch_idx, (data, target) in enumerate(train_loader):\n",
    "            data, target = data.to(device), target.to(device)\n",
    "            # Forward pass\n",
    "            output = model(data)\n",
    "            loss = criterion(output, target)\n",
    "            # Backward pass and optimization\n",
    "            optimizer.zero_grad()\n",
    "            loss.backward()\n",
    "            optimizer.step()\n",
    "            # add loss for each batch to total loss which calculates total loss for the epoch\n",
    "            total_loss += loss.item()\n",
    "\n",
    "            # accuracy calculation\n",
    "            # Get the predicted class by taking the index of the maximum logit along the class dimension\n",
    "            _, predicted = torch.max(output, 1)\n",
    "            # Update the number of correct predictions\n",
    "            correct_predictions += (predicted == target).sum().item()\n",
    "            # Update the total number of predictions\n",
    "            total_predictions += target.size(0)\n",
    "\n",
    "        avg_loss = total_loss / len(train_loader)\n",
    "        accuracy = correct_predictions / total_predictions\n",
    "        loss_list.append(avg_loss)\n",
    "        accuracy_list.append(accuracy)\n",
    "        print(f'Epoch [{epoch+1}/{num_epochs}], Loss: {avg_loss:.4f}')\n",
    "\n",
    "    return loss_list, accuracy_list"
   ]
  },
  {
   "cell_type": "code",
   "execution_count": 14,
   "metadata": {
    "colab": {
     "base_uri": "https://localhost:8080/"
    },
    "id": "lGc4UerFQtTm",
    "outputId": "cadab440-633f-40e1-8d37-7496bdf40dae"
   },
   "outputs": [
    {
     "name": "stdout",
     "output_type": "stream",
     "text": [
      "Training Shallow Model...\n",
      "Epoch [1/50], Loss: 0.4227\n",
      "Epoch [2/50], Loss: 0.2144\n",
      "Epoch [3/50], Loss: 0.1683\n",
      "Epoch [4/50], Loss: 0.1376\n",
      "Epoch [5/50], Loss: 0.1154\n",
      "Epoch [6/50], Loss: 0.0998\n",
      "Epoch [7/50], Loss: 0.0868\n",
      "Epoch [8/50], Loss: 0.0778\n",
      "Epoch [9/50], Loss: 0.0695\n",
      "Epoch [10/50], Loss: 0.0635\n",
      "Epoch [11/50], Loss: 0.0572\n",
      "Epoch [12/50], Loss: 0.0522\n",
      "Epoch [13/50], Loss: 0.0475\n",
      "Epoch [14/50], Loss: 0.0435\n",
      "Epoch [15/50], Loss: 0.0399\n",
      "Epoch [16/50], Loss: 0.0368\n",
      "Epoch [17/50], Loss: 0.0332\n",
      "Epoch [18/50], Loss: 0.0308\n",
      "Epoch [19/50], Loss: 0.0280\n",
      "Epoch [20/50], Loss: 0.0259\n",
      "Epoch [21/50], Loss: 0.0235\n",
      "Epoch [22/50], Loss: 0.0214\n",
      "Epoch [23/50], Loss: 0.0196\n",
      "Epoch [24/50], Loss: 0.0186\n",
      "Epoch [25/50], Loss: 0.0173\n",
      "Epoch [26/50], Loss: 0.0152\n",
      "Epoch [27/50], Loss: 0.0144\n",
      "Epoch [28/50], Loss: 0.0130\n",
      "Epoch [29/50], Loss: 0.0119\n",
      "Epoch [30/50], Loss: 0.0110\n",
      "Epoch [31/50], Loss: 0.0099\n",
      "Epoch [32/50], Loss: 0.0100\n",
      "Epoch [33/50], Loss: 0.0088\n",
      "Epoch [34/50], Loss: 0.0084\n",
      "Epoch [35/50], Loss: 0.0076\n",
      "Epoch [36/50], Loss: 0.0070\n",
      "Epoch [37/50], Loss: 0.0068\n",
      "Epoch [38/50], Loss: 0.0063\n",
      "Epoch [39/50], Loss: 0.0057\n",
      "Epoch [40/50], Loss: 0.0061\n",
      "Epoch [41/50], Loss: 0.0058\n",
      "Epoch [42/50], Loss: 0.0044\n",
      "Epoch [43/50], Loss: 0.0059\n",
      "Epoch [44/50], Loss: 0.0040\n",
      "Epoch [45/50], Loss: 0.0029\n",
      "Epoch [46/50], Loss: 0.0047\n",
      "Epoch [47/50], Loss: 0.0038\n",
      "Epoch [48/50], Loss: 0.0048\n",
      "Epoch [49/50], Loss: 0.0036\n",
      "Epoch [50/50], Loss: 0.0023\n",
      "Training Deep Model...\n",
      "Epoch [1/50], Loss: 0.6142\n",
      "Epoch [2/50], Loss: 0.2903\n",
      "Epoch [3/50], Loss: 0.2410\n",
      "Epoch [4/50], Loss: 0.2098\n",
      "Epoch [5/50], Loss: 0.1894\n",
      "Epoch [6/50], Loss: 0.1741\n",
      "Epoch [7/50], Loss: 0.1598\n",
      "Epoch [8/50], Loss: 0.1503\n",
      "Epoch [9/50], Loss: 0.1405\n",
      "Epoch [10/50], Loss: 0.1324\n",
      "Epoch [11/50], Loss: 0.1264\n",
      "Epoch [12/50], Loss: 0.1200\n",
      "Epoch [13/50], Loss: 0.1140\n",
      "Epoch [14/50], Loss: 0.1098\n",
      "Epoch [15/50], Loss: 0.1047\n",
      "Epoch [16/50], Loss: 0.1012\n",
      "Epoch [17/50], Loss: 0.0977\n",
      "Epoch [18/50], Loss: 0.0932\n",
      "Epoch [19/50], Loss: 0.0924\n",
      "Epoch [20/50], Loss: 0.0876\n",
      "Epoch [21/50], Loss: 0.0851\n",
      "Epoch [22/50], Loss: 0.0824\n",
      "Epoch [23/50], Loss: 0.0803\n",
      "Epoch [24/50], Loss: 0.0783\n",
      "Epoch [25/50], Loss: 0.0758\n",
      "Epoch [26/50], Loss: 0.0733\n",
      "Epoch [27/50], Loss: 0.0723\n",
      "Epoch [28/50], Loss: 0.0700\n",
      "Epoch [29/50], Loss: 0.0667\n",
      "Epoch [30/50], Loss: 0.0663\n",
      "Epoch [31/50], Loss: 0.0643\n",
      "Epoch [32/50], Loss: 0.0629\n",
      "Epoch [33/50], Loss: 0.0599\n",
      "Epoch [34/50], Loss: 0.0609\n",
      "Epoch [35/50], Loss: 0.0597\n",
      "Epoch [36/50], Loss: 0.0584\n",
      "Epoch [37/50], Loss: 0.0571\n",
      "Epoch [38/50], Loss: 0.0554\n",
      "Epoch [39/50], Loss: 0.0534\n",
      "Epoch [40/50], Loss: 0.0534\n",
      "Epoch [41/50], Loss: 0.0528\n",
      "Epoch [42/50], Loss: 0.0511\n",
      "Epoch [43/50], Loss: 0.0503\n",
      "Epoch [44/50], Loss: 0.0492\n",
      "Epoch [45/50], Loss: 0.0494\n",
      "Epoch [46/50], Loss: 0.0474\n",
      "Epoch [47/50], Loss: 0.0464\n",
      "Epoch [48/50], Loss: 0.0453\n",
      "Epoch [49/50], Loss: 0.0463\n",
      "Epoch [50/50], Loss: 0.0432\n"
     ]
    },
    {
     "data": {
      "image/png": "[encoded data removed]",
      "text/plain": [
       "<Figure size 640x480 with 1 Axes>"
      ]
     },
     "metadata": {},
     "output_type": "display_data"
    }
   ],
   "source": [
    "# Train both models\n",
    "print(\"Training Shallow Model...\")\n",
    "shallow_loss, shallow_accuracy = train(shallow_model, optimizer_shallow, num_epochs)\n",
    "print(\"Training Deep Model...\")\n",
    "deep_loss, deep_accuracy = train(deep_model, optimizer_deep, num_epochs)\n",
    "\n",
    "# Plot the training loss for both models\n",
    "plt.figure()\n",
    "plt.plot(shallow_loss, label='Shallow Model')\n",
    "plt.plot(deep_loss, label='Deep Model')\n",
    "plt.xlabel('Epoch')\n",
    "plt.ylabel('Loss')\n",
    "plt.title('Training Loss Comparison')\n",
    "plt.legend()\n",
    "plt.show()"
   ]
  },
  {
   "cell_type": "code",
   "execution_count": 17,
   "metadata": {
    "id": "Et5loCT9qaTO"
   },
   "outputs": [
    {
     "data": {
      "image/png": "[encoded data removed]",
      "text/plain": [
       "<Figure size 640x480 with 1 Axes>"
      ]
     },
     "metadata": {},
     "output_type": "display_data"
    }
   ],
   "source": [
    "# Plot the accuracy for both models\n",
    "plt.figure()\n",
    "plt.plot(shallow_accuracy, label='Shallow Model')\n",
    "plt.plot(deep_accuracy, label='Deep Model')\n",
    "plt.xlabel('Epoch')\n",
    "plt.ylabel('Accuracy')\n",
    "plt.title('Accuracy Comparison')\n",
    "plt.legend()\n",
    "plt.show()"
   ]
  },
  {
   "cell_type": "code",
   "execution_count": 18,
   "metadata": {
    "id": "O_CbZPO1kY-e"
   },
   "outputs": [
    {
     "name": "stdout",
     "output_type": "stream",
     "text": [
      "Shallow Model Testing Accuracy: 97.08%\n",
      "Deep Model Testing Accuracy: 95.88%\n"
     ]
    }
   ],
   "source": [
    "# Testing function\n",
    "def test(model):\n",
    "    # Set the model to evaluation mode\n",
    "    model.eval()\n",
    "    correct_predictions = 0\n",
    "    total_predictions = 0\n",
    "    with torch.no_grad():\n",
    "        for data, target in test_loader:\n",
    "            data, target = data.to(device), target.to(device)\n",
    "            output = model(data)\n",
    "            # Get the predicted class by taking the index of the maximum logit along the class dimension\n",
    "            _, predicted = torch.max(output, 1)\n",
    "            # Update the number of correct predictions\n",
    "            correct_predictions += (predicted == target).sum().item()\n",
    "            # Update the total number of predictions\n",
    "            total_predictions += target.size(0)\n",
    "    accuracy = (correct_predictions / total_predictions) *100\n",
    "    return accuracy\n",
    "\n",
    "# Test both models\n",
    "shallow_accuracy = test(shallow_model)\n",
    "deep_accuracy = test(deep_model)\n",
    "\n",
    "print(f'Shallow Model Testing Accuracy: {shallow_accuracy:.2f}%')\n",
    "print(f'Deep Model Testing Accuracy: {deep_accuracy:.2f}%')"
   ]
  }
 ],
 "metadata": {
  "accelerator": "GPU",
  "colab": {
   "authorship_tag": "ABX9TyOCoKKbkQOL58OQlFyBekT4",
   "gpuType": "T4",
   "provenance": []
  },
  "kernelspec": {
   "display_name": "Python 3 (ipykernel)",
   "language": "python",
   "name": "python3"
  },
  "language_info": {
   "codemirror_mode": {
    "name": "ipython",
    "version": 3
   },
   "file_extension": ".py",
   "mimetype": "text/x-python",
   "name": "python",
   "nbconvert_exporter": "python",
   "pygments_lexer": "ipython3",
   "version": "3.10.12"
  }
 },
 "nbformat": 4,
 "nbformat_minor": 4
}
