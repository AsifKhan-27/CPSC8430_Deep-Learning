{
 "cells": [
  {
   "cell_type": "code",
   "execution_count": 1,
   "metadata": {
    "id": "-W5KiaoSTbn3"
   },
   "outputs": [],
   "source": [
    "# No. of parameters vs. Generalization"
   ]
  },
  {
   "cell_type": "code",
   "execution_count": 2,
   "metadata": {
    "id": "HD6IA6x-sS5p"
   },
   "outputs": [
    {
     "name": "stderr",
     "output_type": "stream",
     "text": [
      "/home/asifahm/.conda/envs/ece4420/lib/python3.10/site-packages/torchvision/io/image.py:13: UserWarning: Failed to load image Python extension: '/home/asifahm/.conda/envs/ece4420/lib/python3.10/site-packages/torchvision/image.so: undefined symbol: _ZN5torch3jit17parseSchemaOrNameERKSs'If you don't plan on using image functionality from `torchvision.io`, you can ignore this warning. Otherwise, there might be something wrong with your environment. Did you have `libjpeg` or `libpng` installed before building `torchvision` from source?\n",
      "  warn(\n"
     ]
    }
   ],
   "source": [
    "import numpy as np\n",
    "import pandas as pd\n",
    "import torch\n",
    "import torch.nn as nn\n",
    "import torch.optim as optim\n",
    "from torchvision import datasets, transforms\n",
    "from torch.utils.data import DataLoader, Dataset\n",
    "import matplotlib.pyplot as plt"
   ]
  },
  {
   "cell_type": "code",
   "execution_count": 3,
   "metadata": {
    "id": "BiQPQ1rZx-by"
   },
   "outputs": [],
   "source": [
    "# Device configuration\n",
    "device = torch.device('cuda' if torch.cuda.is_available() else 'cpu')"
   ]
  },
  {
   "cell_type": "code",
   "execution_count": 4,
   "metadata": {
    "colab": {
     "base_uri": "https://localhost:8080/"
    },
    "id": "XhC7e3A6yBM2",
    "outputId": "89b9d327-6b51-43c1-e6fb-c15df9963214"
   },
   "outputs": [],
   "source": [
    "# Load MNIST dataset\n",
    "train_dataset = datasets.MNIST(root='./data', train=True, transform=transforms.ToTensor(), download=True)\n",
    "test_dataset = datasets.MNIST(root='./data', train=False, transform=transforms.ToTensor())"
   ]
  },
  {
   "cell_type": "code",
   "execution_count": 5,
   "metadata": {
    "id": "-T4idKkR2vbq"
   },
   "outputs": [],
   "source": [
    "# Hyperparameters\n",
    "input_size = 784  # MNIST image size (28x28) flattened\n",
    "num_classes = 10  # Number of output classes for MNIST (digits 0-9)\n",
    "num_epochs = 20\n",
    "batch_size = 64\n",
    "learning_rate = 0.001"
   ]
  },
  {
   "cell_type": "code",
   "execution_count": 6,
   "metadata": {
    "id": "OK7SDlYx21Xp"
   },
   "outputs": [],
   "source": [
    "# Data loader\n",
    "train_loader = DataLoader(dataset=train_dataset, batch_size=batch_size, shuffle=True)\n",
    "test_loader = DataLoader(dataset=test_dataset, batch_size=batch_size, shuffle=False)"
   ]
  },
  {
   "cell_type": "code",
   "execution_count": 7,
   "metadata": {
    "id": "heT7Bgf9287j"
   },
   "outputs": [],
   "source": [
    "class DNN(nn.Module):\n",
    "    def __init__(self, hidden_units):\n",
    "        super(DNN, self).__init__()\n",
    "        self.fc1 = nn.Linear(28 * 28, hidden_units[0])\n",
    "        self.fc2 = nn.Linear(hidden_units[0], hidden_units[1])\n",
    "        self.fc3 = nn.Linear(hidden_units[1], num_classes)\n",
    "\n",
    "    def forward(self, x):\n",
    "        x = x.view(-1, input_size)\n",
    "        x = torch.relu(self.fc1(x))\n",
    "        x = torch.relu(self.fc2(x))\n",
    "        x = self.fc3(x)\n",
    "        return x"
   ]
  },
  {
   "cell_type": "code",
   "execution_count": 8,
   "metadata": {
    "id": "371cZd765AhK"
   },
   "outputs": [],
   "source": [
    "# Training function\n",
    "def train(model, optimizer, num_epochs):\n",
    "    model.train()\n",
    "    loss_list = []\n",
    "    accuracy_list = []\n",
    "    for epoch in range(num_epochs):\n",
    "        total_loss = 0\n",
    "        correct_predictions = 0\n",
    "        total_predictions = 0\n",
    "\n",
    "        for batch_idx, (data, target) in enumerate(train_loader):\n",
    "            data, target = data.to(device), target.to(device)\n",
    "            # Forward pass\n",
    "            output = model(data)\n",
    "            loss = criterion(output, target)\n",
    "            # Backward pass and optimization\n",
    "            optimizer.zero_grad()\n",
    "            loss.backward()\n",
    "            optimizer.step()\n",
    "            # Add loss for each batch to total loss for the epoch\n",
    "            total_loss += loss.item()\n",
    "            # Accuracy calculation\n",
    "            _, predicted = torch.max(output, 1)\n",
    "            correct_predictions += (predicted == target).sum().item()\n",
    "            total_predictions += target.size(0)\n",
    "\n",
    "        avg_loss = total_loss / len(train_loader)\n",
    "        accuracy = correct_predictions / total_predictions\n",
    "        loss_list.append(avg_loss)\n",
    "        accuracy_list.append(accuracy)\n",
    "        print(f'Epoch [{epoch+1}/{num_epochs}], Loss: {avg_loss:.4f}, Accuracy: {accuracy:.4f}')\n",
    "\n",
    "    return loss_list, accuracy_list"
   ]
  },
  {
   "cell_type": "code",
   "execution_count": 9,
   "metadata": {
    "id": "6BBDDonQ5XWm"
   },
   "outputs": [],
   "source": [
    "# Test function\n",
    "def test(model, optimizer):\n",
    "    model.eval()\n",
    "    total_loss = 0\n",
    "    correct_predictions = 0\n",
    "    total_predictions = 0\n",
    "\n",
    "    with torch.no_grad():\n",
    "        for data, target in test_loader:\n",
    "            data, target = data.to(device), target.to(device)\n",
    "            output = model(data)\n",
    "            loss = criterion(output, target)\n",
    "\n",
    "            total_loss += loss.item()\n",
    "\n",
    "            # Accuracy calculation\n",
    "            _, predicted = torch.max(output, 1)\n",
    "            correct_predictions += (predicted == target).sum().item()\n",
    "            total_predictions += target.size(0)\n",
    "\n",
    "    avg_loss = total_loss / len(test_loader)\n",
    "    accuracy = correct_predictions / total_predictions\n",
    "    return avg_loss, accuracy"
   ]
  },
  {
   "cell_type": "code",
   "execution_count": 16,
   "metadata": {
    "colab": {
     "base_uri": "https://localhost:8080/"
    },
    "id": "LKi_0_ntyNJK",
    "outputId": "2f808306-fd0e-4c90-92e7-112b23d4f716"
   },
   "outputs": [
    {
     "name": "stdout",
     "output_type": "stream",
     "text": [
      "Training model with 7965 parameters...\n",
      "Epoch [1/5], Loss: 1.0264, Accuracy: 0.6781\n",
      "Epoch [2/5], Loss: 0.5052, Accuracy: 0.8622\n",
      "Epoch [3/5], Loss: 0.4262, Accuracy: 0.8849\n",
      "Epoch [4/5], Loss: 0.3811, Accuracy: 0.8955\n",
      "Epoch [5/5], Loss: 0.3522, Accuracy: 0.9030\n",
      "Training model with 16020 parameters...\n",
      "Epoch [1/5], Loss: 0.6125, Accuracy: 0.8142\n",
      "Epoch [2/5], Loss: 0.2854, Accuracy: 0.9193\n",
      "Epoch [3/5], Loss: 0.2417, Accuracy: 0.9314\n",
      "Epoch [4/5], Loss: 0.2154, Accuracy: 0.9386\n",
      "Epoch [5/5], Loss: 0.1957, Accuracy: 0.9436\n",
      "Training model with 24175 parameters...\n",
      "Epoch [1/5], Loss: 0.5065, Accuracy: 0.8581\n",
      "Epoch [2/5], Loss: 0.2537, Accuracy: 0.9265\n",
      "Epoch [3/5], Loss: 0.2089, Accuracy: 0.9390\n",
      "Epoch [4/5], Loss: 0.1771, Accuracy: 0.9479\n",
      "Epoch [5/5], Loss: 0.1560, Accuracy: 0.9538\n",
      "Training model with 32430 parameters...\n",
      "Epoch [1/5], Loss: 0.4595, Accuracy: 0.8731\n",
      "Epoch [2/5], Loss: 0.2144, Accuracy: 0.9375\n",
      "Epoch [3/5], Loss: 0.1701, Accuracy: 0.9508\n",
      "Epoch [4/5], Loss: 0.1439, Accuracy: 0.9578\n",
      "Epoch [5/5], Loss: 0.1246, Accuracy: 0.9630\n",
      "Training model with 40785 parameters...\n",
      "Epoch [1/5], Loss: 0.4562, Accuracy: 0.8726\n",
      "Epoch [2/5], Loss: 0.2026, Accuracy: 0.9419\n",
      "Epoch [3/5], Loss: 0.1522, Accuracy: 0.9562\n",
      "Epoch [4/5], Loss: 0.1218, Accuracy: 0.9644\n",
      "Epoch [5/5], Loss: 0.1045, Accuracy: 0.9698\n",
      "Training model with 49240 parameters...\n",
      "Epoch [1/5], Loss: 0.4298, Accuracy: 0.8752\n",
      "Epoch [2/5], Loss: 0.1935, Accuracy: 0.9431\n",
      "Epoch [3/5], Loss: 0.1437, Accuracy: 0.9568\n",
      "Epoch [4/5], Loss: 0.1124, Accuracy: 0.9663\n",
      "Epoch [5/5], Loss: 0.0928, Accuracy: 0.9718\n",
      "Training model with 57795 parameters...\n",
      "Epoch [1/5], Loss: 0.4058, Accuracy: 0.8839\n",
      "Epoch [2/5], Loss: 0.1740, Accuracy: 0.9496\n",
      "Epoch [3/5], Loss: 0.1284, Accuracy: 0.9624\n",
      "Epoch [4/5], Loss: 0.1019, Accuracy: 0.9696\n",
      "Epoch [5/5], Loss: 0.0868, Accuracy: 0.9740\n",
      "Training model with 66450 parameters...\n",
      "Epoch [1/5], Loss: 0.3785, Accuracy: 0.8955\n",
      "Epoch [2/5], Loss: 0.1641, Accuracy: 0.9514\n",
      "Epoch [3/5], Loss: 0.1162, Accuracy: 0.9659\n",
      "Epoch [4/5], Loss: 0.0904, Accuracy: 0.9731\n",
      "Epoch [5/5], Loss: 0.0739, Accuracy: 0.9775\n",
      "Training model with 75205 parameters...\n",
      "Epoch [1/5], Loss: 0.3861, Accuracy: 0.8934\n",
      "Epoch [2/5], Loss: 0.1736, Accuracy: 0.9499\n",
      "Epoch [3/5], Loss: 0.1195, Accuracy: 0.9649\n",
      "Epoch [4/5], Loss: 0.0910, Accuracy: 0.9724\n",
      "Epoch [5/5], Loss: 0.0721, Accuracy: 0.9781\n",
      "Training model with 84060 parameters...\n",
      "Epoch [1/5], Loss: 0.3654, Accuracy: 0.8978\n",
      "Epoch [2/5], Loss: 0.1598, Accuracy: 0.9527\n",
      "Epoch [3/5], Loss: 0.1121, Accuracy: 0.9666\n",
      "Epoch [4/5], Loss: 0.0845, Accuracy: 0.9744\n",
      "Epoch [5/5], Loss: 0.0672, Accuracy: 0.9794\n"
     ]
    }
   ],
   "source": [
    "# Different model sizes\n",
    "hidden_units_list = [\n",
    "    [10, 5],\n",
    "    [20, 10],\n",
    "    [30, 15],\n",
    "    [40, 20],\n",
    "    [50, 25],\n",
    "    [60, 30],\n",
    "    [70, 35],\n",
    "    [80, 40],\n",
    "    [90, 45],\n",
    "    [100, 50],\n",
    "]\n",
    "\n",
    "# Lists to store results\n",
    "train_losses = []\n",
    "test_losses = []\n",
    "train_accuracies = []\n",
    "test_accuracies = []\n",
    "param_counts = []\n",
    "\n",
    "# Criterion\n",
    "criterion = nn.CrossEntropyLoss()\n",
    "\n",
    "num_epochs = 5\n",
    "\n",
    "# Train and test each model\n",
    "for hidden_units in hidden_units_list:\n",
    "    model = DNN(hidden_units).to(device)\n",
    "    optimizer = optim.Adam(model.parameters(), lr=learning_rate)\n",
    "\n",
    "    # Train the model\n",
    "    num_params = sum(p.numel() for p in model.parameters())\n",
    "    print(f'Training model with {num_params} parameters...')\n",
    "    param_counts.append(num_params)\n",
    "\n",
    "    # Training\n",
    "    train_loss, train_accuracy = train(model, optimizer, num_epochs)\n",
    "\n",
    "    # Testing\n",
    "    test_loss, test_accuracy = test(model, optimizer)\n",
    "\n",
    "    # Store results\n",
    "    train_losses.append(train_loss[-1])  # Take the last epoch's loss\n",
    "    train_accuracies.append(train_accuracy[-1])  # Take the last epoch's accuracy\n",
    "    test_losses.append(test_loss)\n",
    "    test_accuracies.append(test_accuracy)"
   ]
  },
  {
   "cell_type": "code",
   "execution_count": 17,
   "metadata": {},
   "outputs": [
    {
     "name": "stdout",
     "output_type": "stream",
     "text": [
      "train_losses: 10\n",
      "test_losses: 10\n",
      "param_counts: [7965, 16020, 24175, 32430, 40785, 49240, 57795, 66450, 75205, 84060]\n"
     ]
    }
   ],
   "source": [
    "print(f\"train_losses: {len(train_losses)}\")\n",
    "print(f\"test_losses: {len(test_losses)}\")\n",
    "print(f\"param_counts: {param_counts}\")"
   ]
  },
  {
   "cell_type": "code",
   "execution_count": 20,
   "metadata": {
    "colab": {
     "base_uri": "https://localhost:8080/",
     "height": 211
    },
    "id": "YCGssu_j3gFE",
    "outputId": "7ed34bfe-a833-41af-fd50-1aafe9f7bf8c"
   },
   "outputs": [
    {
     "data": {
      "image/png": "[encoded data removed]",
      "text/plain": [
       "<Figure size 1000x500 with 2 Axes>"
      ]
     },
     "metadata": {},
     "output_type": "display_data"
    }
   ],
   "source": [
    "# Plot results\n",
    "plt.figure(figsize=(10, 5))\n",
    "\n",
    "# Loss plot\n",
    "plt.subplot(1, 2, 1)\n",
    "plt.scatter(param_counts, train_losses, label='Train Loss')\n",
    "plt.scatter(param_counts, test_losses, label='Test Loss')\n",
    "plt.xlabel('Number of Parameters')\n",
    "plt.ylabel('Loss')\n",
    "plt.title('Model Loss')\n",
    "plt.legend()\n",
    "\n",
    "# Accuracy plot\n",
    "plt.subplot(1, 2, 2)\n",
    "plt.scatter(param_counts, train_accuracies, label='Train Accuracy')\n",
    "plt.scatter(param_counts, test_accuracies, label='Test Accuracy')\n",
    "plt.xlabel('Number of Parameters')\n",
    "plt.ylabel('Accuracy')\n",
    "plt.title('Model Accuracy')\n",
    "plt.legend()\n",
    "\n",
    "plt.tight_layout()\n",
    "plt.show()"
   ]
  },
  {
   "cell_type": "code",
   "execution_count": null,
   "metadata": {},
   "outputs": [],
   "source": []
  }
 ],
 "metadata": {
  "colab": {
   "provenance": []
  },
  "kernelspec": {
   "display_name": "Python 3 (ipykernel)",
   "language": "python",
   "name": "python3"
  },
  "language_info": {
   "codemirror_mode": {
    "name": "ipython",
    "version": 3
   },
   "file_extension": ".py",
   "mimetype": "text/x-python",
   "name": "python",
   "nbconvert_exporter": "python",
   "pygments_lexer": "ipython3",
   "version": "3.10.12"
  }
 },
 "nbformat": 4,
 "nbformat_minor": 4
}
