{
 "cells": [
  {
   "cell_type": "code",
   "execution_count": 1,
   "metadata": {
    "id": "Vo-uBHRkTBlv"
   },
   "outputs": [],
   "source": [
    "# Visualize the optimization process"
   ]
  },
  {
   "cell_type": "code",
   "execution_count": 2,
   "metadata": {
    "id": "4EGcHDapWCa7"
   },
   "outputs": [
    {
     "name": "stderr",
     "output_type": "stream",
     "text": [
      "/home/asifahm/.conda/envs/ece4420/lib/python3.10/site-packages/torchvision/io/image.py:13: UserWarning: Failed to load image Python extension: '/home/asifahm/.conda/envs/ece4420/lib/python3.10/site-packages/torchvision/image.so: undefined symbol: _ZN5torch3jit17parseSchemaOrNameERKSs'If you don't plan on using image functionality from `torchvision.io`, you can ignore this warning. Otherwise, there might be something wrong with your environment. Did you have `libjpeg` or `libpng` installed before building `torchvision` from source?\n",
      "  warn(\n"
     ]
    }
   ],
   "source": [
    "import numpy as np\n",
    "import pandas as pd\n",
    "import torch\n",
    "import torch.nn as nn\n",
    "import torch.optim as optim\n",
    "import matplotlib.pyplot as plt\n",
    "from sklearn.decomposition import PCA\n",
    "from torchvision import datasets, transforms"
   ]
  },
  {
   "cell_type": "code",
   "execution_count": 3,
   "metadata": {
    "id": "vK7W_LTXWuN5"
   },
   "outputs": [],
   "source": [
    "# Device configuration\n",
    "device = torch.device('cuda' if torch.cuda.is_available() else 'cpu')"
   ]
  },
  {
   "cell_type": "code",
   "execution_count": 4,
   "metadata": {
    "id": "J5OjlRbNWPtp"
   },
   "outputs": [],
   "source": [
    "# Hyperparameters\n",
    "input_size = 784\n",
    "output_size = 10\n",
    "num_epochs = 30\n",
    "batch_size = 64\n",
    "learning_rate = 0.001\n",
    "collect_every_n_epochs = 3"
   ]
  },
  {
   "cell_type": "code",
   "execution_count": 5,
   "metadata": {
    "colab": {
     "base_uri": "https://localhost:8080/"
    },
    "id": "O9n7zFGsWpww",
    "outputId": "dcebccf5-7fd4-4bf2-dec4-c0b1f226fece"
   },
   "outputs": [],
   "source": [
    "# Load MNIST dataset\n",
    "train_dataset = datasets.MNIST(root='./data', train=True, transform=transforms.ToTensor(), download=True)\n",
    "test_dataset = datasets.MNIST(root='./data', train=False, transform=transforms.ToTensor())"
   ]
  },
  {
   "cell_type": "code",
   "execution_count": 6,
   "metadata": {
    "id": "6PcbMHG7voFy"
   },
   "outputs": [],
   "source": [
    "# Data loader\n",
    "train_loader = torch.utils.data.DataLoader(dataset=train_dataset, batch_size=batch_size, shuffle=True)\n",
    "test_loader = torch.utils.data.DataLoader(dataset=test_dataset, batch_size=batch_size, shuffle=False)"
   ]
  },
  {
   "cell_type": "code",
   "execution_count": 7,
   "metadata": {
    "id": "wjpWCzNoW13C"
   },
   "outputs": [],
   "source": [
    "class Model(nn.Module):\n",
    "    def __init__(self):\n",
    "        super(Model, self).__init__()\n",
    "        self.fc1 = nn.Linear(input_size, 50)\n",
    "        self.fc2 = nn.Linear(50, output_size)\n",
    "\n",
    "    def forward(self, x):\n",
    "        x = x.view(-1, input_size)\n",
    "        x = torch.relu(self.fc1(x))\n",
    "        x = self.fc2(x)\n",
    "        return x"
   ]
  },
  {
   "cell_type": "code",
   "execution_count": 8,
   "metadata": {
    "id": "RNEi-1orW52L"
   },
   "outputs": [],
   "source": [
    "# Initialize model\n",
    "model = Model().to(device)"
   ]
  },
  {
   "cell_type": "code",
   "execution_count": 9,
   "metadata": {
    "colab": {
     "base_uri": "https://localhost:8080/"
    },
    "id": "Yy3a1vEEYSHt",
    "outputId": "d1937aa8-63d7-459c-b83d-fe44b6d5ed3a"
   },
   "outputs": [
    {
     "name": "stdout",
     "output_type": "stream",
     "text": [
      "<bound method Module.parameters of Model(\n",
      "  (fc1): Linear(in_features=784, out_features=50, bias=True)\n",
      "  (fc2): Linear(in_features=50, out_features=10, bias=True)\n",
      ")>\n",
      "39760\n"
     ]
    }
   ],
   "source": [
    "print(model.parameters)\n",
    "# total_params = sum(p.numel() for p in model.parameters())\n",
    "total_params = sum(p.numel() for p in model.parameters() if p.requires_grad)\n",
    "print(total_params)"
   ]
  },
  {
   "cell_type": "code",
   "execution_count": 10,
   "metadata": {
    "id": "-xGDNRg_W_MJ"
   },
   "outputs": [],
   "source": [
    "# Loss and optimizer\n",
    "criterion = nn.CrossEntropyLoss()\n",
    "optimizer = optim.Adam(model.parameters(), lr=learning_rate)"
   ]
  },
  {
   "cell_type": "code",
   "execution_count": 11,
   "metadata": {
    "id": "8xpq5n9XwD5M"
   },
   "outputs": [],
   "source": [
    "# Function to collect and flatten weights\n",
    "def collect_weights(model, layer_idx=None):\n",
    "    if layer_idx is not None:\n",
    "        # Collect weights from a specific layer\n",
    "        layer_weights = list(model.parameters())[layer_idx].cpu().detach().numpy().flatten()\n",
    "    else:\n",
    "        # Collect all weights from the model\n",
    "        all_weights = [param.cpu().detach().numpy().flatten() for param in model.parameters()]\n",
    "        layer_weights = np.concatenate(all_weights)\n",
    "    return layer_weights"
   ]
  },
  {
   "cell_type": "code",
   "execution_count": 12,
   "metadata": {
    "id": "FK9cF3hdv02u"
   },
   "outputs": [
    {
     "name": "stdout",
     "output_type": "stream",
     "text": [
      "Training for run: 1/8\n",
      "Training for run: 2/8\n",
      "Training for run: 3/8\n",
      "Training for run: 4/8\n",
      "Training for run: 5/8\n",
      "Training for run: 6/8\n",
      "Training for run: 7/8\n",
      "Training for run: 8/8\n"
     ]
    }
   ],
   "source": [
    "# Train the model 8 times\n",
    "layer_weights_collection = []\n",
    "model_weights_collection = []\n",
    "\n",
    "for run in range(8):\n",
    "    print(f\"Training for run: {run+1}/{8}\")\n",
    "    # Initialize model\n",
    "    model = Model().to(device)\n",
    "\n",
    "    layer_weights_run = []\n",
    "    model_weights_run = []\n",
    "\n",
    "    for epoch in range(num_epochs):\n",
    "        model.train()\n",
    "        for batch_idx, (data, target) in enumerate(train_loader):\n",
    "            optimizer.zero_grad()\n",
    "            output = model(data)\n",
    "            loss = criterion(output, target)\n",
    "            loss.backward()\n",
    "            optimizer.step()\n",
    "\n",
    "        # Collect weights every 3 epochs\n",
    "        if (epoch + 1) % 3 == 0:\n",
    "            # Collect from fc1 layer (index 0)\n",
    "            layer_weights_run.append(collect_weights(model, layer_idx=0))\n",
    "            # Collect from the entire model\n",
    "            model_weights_run.append(collect_weights(model))\n",
    "\n",
    "    layer_weights_collection.append(layer_weights_run)\n",
    "    model_weights_collection.append(model_weights_run)\n",
    "\n"
   ]
  },
  {
   "cell_type": "code",
   "execution_count": 13,
   "metadata": {
    "colab": {
     "base_uri": "https://localhost:8080/"
    },
    "id": "uTj59B8GShbS",
    "outputId": "37cc6f19-f797-4585-ba1c-1e0681f13ced"
   },
   "outputs": [
    {
     "name": "stdout",
     "output_type": "stream",
     "text": [
      "layer_weights_collection.shape: 8\n",
      "[[array([-0.0190311 ,  0.02771812, -0.03133537, ...,  0.01587179,\n",
      "       -0.01275046,  0.01327731], dtype=float32), array([-0.0190311 ,  0.02771812, -0.03133537, ...,  0.01587179,\n",
      "       -0.01275046,  0.01327731], dtype=float32), array([-0.0190311 ,  0.02771812, -0.03133537, ...,  0.01587179,\n",
      "       -0.01275046,  0.01327731], dtype=float32), array([-0.0190311 ,  0.02771812, -0.03133537, ...,  0.01587179,\n",
      "       -0.01275046,  0.01327731], dtype=float32), array([-0.0190311 ,  0.02771812, -0.03133537, ...,  0.01587179,\n",
      "       -0.01275046,  0.01327731], dtype=float32), array([-0.0190311 ,  0.02771812, -0.03133537, ...,  0.01587179,\n",
      "       -0.01275046,  0.01327731], dtype=float32), array([-0.0190311 ,  0.02771812, -0.03133537, ...,  0.01587179,\n",
      "       -0.01275046,  0.01327731], dtype=float32), array([-0.0190311 ,  0.02771812, -0.03133537, ...,  0.01587179,\n",
      "       -0.01275046,  0.01327731], dtype=float32), array([-0.0190311 ,  0.02771812, -0.03133537, ...,  0.01587179,\n",
      "       -0.01275046,  0.01327731], dtype=float32), array([-0.0190311 ,  0.02771812, -0.03133537, ...,  0.01587179,\n",
      "       -0.01275046,  0.01327731], dtype=float32)], [array([-0.01300165,  0.01318546, -0.02952773, ..., -0.0287112 ,\n",
      "       -0.02770409, -0.00306194], dtype=float32), array([-0.01300165,  0.01318546, -0.02952773, ..., -0.0287112 ,\n",
      "       -0.02770409, -0.00306194], dtype=float32), array([-0.01300165,  0.01318546, -0.02952773, ..., -0.0287112 ,\n",
      "       -0.02770409, -0.00306194], dtype=float32), array([-0.01300165,  0.01318546, -0.02952773, ..., -0.0287112 ,\n",
      "       -0.02770409, -0.00306194], dtype=float32), array([-0.01300165,  0.01318546, -0.02952773, ..., -0.0287112 ,\n",
      "       -0.02770409, -0.00306194], dtype=float32), array([-0.01300165,  0.01318546, -0.02952773, ..., -0.0287112 ,\n",
      "       -0.02770409, -0.00306194], dtype=float32), array([-0.01300165,  0.01318546, -0.02952773, ..., -0.0287112 ,\n",
      "       -0.02770409, -0.00306194], dtype=float32), array([-0.01300165,  0.01318546, -0.02952773, ..., -0.0287112 ,\n",
      "       -0.02770409, -0.00306194], dtype=float32), array([-0.01300165,  0.01318546, -0.02952773, ..., -0.0287112 ,\n",
      "       -0.02770409, -0.00306194], dtype=float32), array([-0.01300165,  0.01318546, -0.02952773, ..., -0.0287112 ,\n",
      "       -0.02770409, -0.00306194], dtype=float32)], [array([-0.01671616, -0.00224933,  0.00322558, ..., -0.02085567,\n",
      "        0.01560102,  0.00541981], dtype=float32), array([-0.01671616, -0.00224933,  0.00322558, ..., -0.02085567,\n",
      "        0.01560102,  0.00541981], dtype=float32), array([-0.01671616, -0.00224933,  0.00322558, ..., -0.02085567,\n",
      "        0.01560102,  0.00541981], dtype=float32), array([-0.01671616, -0.00224933,  0.00322558, ..., -0.02085567,\n",
      "        0.01560102,  0.00541981], dtype=float32), array([-0.01671616, -0.00224933,  0.00322558, ..., -0.02085567,\n",
      "        0.01560102,  0.00541981], dtype=float32), array([-0.01671616, -0.00224933,  0.00322558, ..., -0.02085567,\n",
      "        0.01560102,  0.00541981], dtype=float32), array([-0.01671616, -0.00224933,  0.00322558, ..., -0.02085567,\n",
      "        0.01560102,  0.00541981], dtype=float32), array([-0.01671616, -0.00224933,  0.00322558, ..., -0.02085567,\n",
      "        0.01560102,  0.00541981], dtype=float32), array([-0.01671616, -0.00224933,  0.00322558, ..., -0.02085567,\n",
      "        0.01560102,  0.00541981], dtype=float32), array([-0.01671616, -0.00224933,  0.00322558, ..., -0.02085567,\n",
      "        0.01560102,  0.00541981], dtype=float32)], [array([ 0.02323297, -0.01172506,  0.01306499, ...,  0.02644917,\n",
      "        0.02037794, -0.00482266], dtype=float32), array([ 0.02323297, -0.01172506,  0.01306499, ...,  0.02644917,\n",
      "        0.02037794, -0.00482266], dtype=float32), array([ 0.02323297, -0.01172506,  0.01306499, ...,  0.02644917,\n",
      "        0.02037794, -0.00482266], dtype=float32), array([ 0.02323297, -0.01172506,  0.01306499, ...,  0.02644917,\n",
      "        0.02037794, -0.00482266], dtype=float32), array([ 0.02323297, -0.01172506,  0.01306499, ...,  0.02644917,\n",
      "        0.02037794, -0.00482266], dtype=float32), array([ 0.02323297, -0.01172506,  0.01306499, ...,  0.02644917,\n",
      "        0.02037794, -0.00482266], dtype=float32), array([ 0.02323297, -0.01172506,  0.01306499, ...,  0.02644917,\n",
      "        0.02037794, -0.00482266], dtype=float32), array([ 0.02323297, -0.01172506,  0.01306499, ...,  0.02644917,\n",
      "        0.02037794, -0.00482266], dtype=float32), array([ 0.02323297, -0.01172506,  0.01306499, ...,  0.02644917,\n",
      "        0.02037794, -0.00482266], dtype=float32), array([ 0.02323297, -0.01172506,  0.01306499, ...,  0.02644917,\n",
      "        0.02037794, -0.00482266], dtype=float32)], [array([-0.02038207, -0.01381297,  0.00444329, ...,  0.02945154,\n",
      "       -0.01114078, -0.01080442], dtype=float32), array([-0.02038207, -0.01381297,  0.00444329, ...,  0.02945154,\n",
      "       -0.01114078, -0.01080442], dtype=float32), array([-0.02038207, -0.01381297,  0.00444329, ...,  0.02945154,\n",
      "       -0.01114078, -0.01080442], dtype=float32), array([-0.02038207, -0.01381297,  0.00444329, ...,  0.02945154,\n",
      "       -0.01114078, -0.01080442], dtype=float32), array([-0.02038207, -0.01381297,  0.00444329, ...,  0.02945154,\n",
      "       -0.01114078, -0.01080442], dtype=float32), array([-0.02038207, -0.01381297,  0.00444329, ...,  0.02945154,\n",
      "       -0.01114078, -0.01080442], dtype=float32), array([-0.02038207, -0.01381297,  0.00444329, ...,  0.02945154,\n",
      "       -0.01114078, -0.01080442], dtype=float32), array([-0.02038207, -0.01381297,  0.00444329, ...,  0.02945154,\n",
      "       -0.01114078, -0.01080442], dtype=float32), array([-0.02038207, -0.01381297,  0.00444329, ...,  0.02945154,\n",
      "       -0.01114078, -0.01080442], dtype=float32), array([-0.02038207, -0.01381297,  0.00444329, ...,  0.02945154,\n",
      "       -0.01114078, -0.01080442], dtype=float32)], [array([0.00777563, 0.00774851, 0.01966017, ..., 0.00896535, 0.00279155,\n",
      "       0.02930456], dtype=float32), array([0.00777563, 0.00774851, 0.01966017, ..., 0.00896535, 0.00279155,\n",
      "       0.02930456], dtype=float32), array([0.00777563, 0.00774851, 0.01966017, ..., 0.00896535, 0.00279155,\n",
      "       0.02930456], dtype=float32), array([0.00777563, 0.00774851, 0.01966017, ..., 0.00896535, 0.00279155,\n",
      "       0.02930456], dtype=float32), array([0.00777563, 0.00774851, 0.01966017, ..., 0.00896535, 0.00279155,\n",
      "       0.02930456], dtype=float32), array([0.00777563, 0.00774851, 0.01966017, ..., 0.00896535, 0.00279155,\n",
      "       0.02930456], dtype=float32), array([0.00777563, 0.00774851, 0.01966017, ..., 0.00896535, 0.00279155,\n",
      "       0.02930456], dtype=float32), array([0.00777563, 0.00774851, 0.01966017, ..., 0.00896535, 0.00279155,\n",
      "       0.02930456], dtype=float32), array([0.00777563, 0.00774851, 0.01966017, ..., 0.00896535, 0.00279155,\n",
      "       0.02930456], dtype=float32), array([0.00777563, 0.00774851, 0.01966017, ..., 0.00896535, 0.00279155,\n",
      "       0.02930456], dtype=float32)], [array([ 0.02993024, -0.01121081, -0.03348484, ..., -0.00210377,\n",
      "       -0.01575456,  0.02876947], dtype=float32), array([ 0.02993024, -0.01121081, -0.03348484, ..., -0.00210377,\n",
      "       -0.01575456,  0.02876947], dtype=float32), array([ 0.02993024, -0.01121081, -0.03348484, ..., -0.00210377,\n",
      "       -0.01575456,  0.02876947], dtype=float32), array([ 0.02993024, -0.01121081, -0.03348484, ..., -0.00210377,\n",
      "       -0.01575456,  0.02876947], dtype=float32), array([ 0.02993024, -0.01121081, -0.03348484, ..., -0.00210377,\n",
      "       -0.01575456,  0.02876947], dtype=float32), array([ 0.02993024, -0.01121081, -0.03348484, ..., -0.00210377,\n",
      "       -0.01575456,  0.02876947], dtype=float32), array([ 0.02993024, -0.01121081, -0.03348484, ..., -0.00210377,\n",
      "       -0.01575456,  0.02876947], dtype=float32), array([ 0.02993024, -0.01121081, -0.03348484, ..., -0.00210377,\n",
      "       -0.01575456,  0.02876947], dtype=float32), array([ 0.02993024, -0.01121081, -0.03348484, ..., -0.00210377,\n",
      "       -0.01575456,  0.02876947], dtype=float32), array([ 0.02993024, -0.01121081, -0.03348484, ..., -0.00210377,\n",
      "       -0.01575456,  0.02876947], dtype=float32)], [array([ 0.02788294,  0.01416332, -0.02809736, ...,  0.00758168,\n",
      "       -0.01398595,  0.0208621 ], dtype=float32), array([ 0.02788294,  0.01416332, -0.02809736, ...,  0.00758168,\n",
      "       -0.01398595,  0.0208621 ], dtype=float32), array([ 0.02788294,  0.01416332, -0.02809736, ...,  0.00758168,\n",
      "       -0.01398595,  0.0208621 ], dtype=float32), array([ 0.02788294,  0.01416332, -0.02809736, ...,  0.00758168,\n",
      "       -0.01398595,  0.0208621 ], dtype=float32), array([ 0.02788294,  0.01416332, -0.02809736, ...,  0.00758168,\n",
      "       -0.01398595,  0.0208621 ], dtype=float32), array([ 0.02788294,  0.01416332, -0.02809736, ...,  0.00758168,\n",
      "       -0.01398595,  0.0208621 ], dtype=float32), array([ 0.02788294,  0.01416332, -0.02809736, ...,  0.00758168,\n",
      "       -0.01398595,  0.0208621 ], dtype=float32), array([ 0.02788294,  0.01416332, -0.02809736, ...,  0.00758168,\n",
      "       -0.01398595,  0.0208621 ], dtype=float32), array([ 0.02788294,  0.01416332, -0.02809736, ...,  0.00758168,\n",
      "       -0.01398595,  0.0208621 ], dtype=float32), array([ 0.02788294,  0.01416332, -0.02809736, ...,  0.00758168,\n",
      "       -0.01398595,  0.0208621 ], dtype=float32)]]\n",
      "model_weights_collection.shape: 8\n"
     ]
    }
   ],
   "source": [
    "print(f\"layer_weights_collection.shape: {len(layer_weights_collection)}\")\n",
    "print(layer_weights_collection)\n",
    "print(f\"model_weights_collection.shape: {len(model_weights_collection)}\")"
   ]
  },
  {
   "cell_type": "code",
   "execution_count": 16,
   "metadata": {
    "id": "tvl5yKWzwNOX"
   },
   "outputs": [],
   "source": [
    "# Function to apply PCA and plot\n",
    "def plot_pca(weight_collections, title):\n",
    "    plt.figure(figsize=(8, 6))\n",
    "    for run_idx, weights in enumerate(weight_collections):\n",
    "        # Stack weights collected across epochs\n",
    "        weights_stacked = np.stack(weights)\n",
    "        pca = PCA(n_components=2)\n",
    "        weights_pca = pca.fit_transform(weights_stacked)\n",
    "\n",
    "        # Plot PCA-reduced weights for each run\n",
    "        plt.scatter(weights_pca[:, 0], weights_pca[:, 1], label=f'Run {run_idx + 1}')\n",
    "\n",
    "    plt.title(title)\n",
    "    plt.xlabel('PCA Dimension 1')\n",
    "    plt.ylabel('PCA Dimension 2')\n",
    "    # plt.legend()\n",
    "    plt.show()"
   ]
  },
  {
   "cell_type": "code",
   "execution_count": 18,
   "metadata": {
    "colab": {
     "base_uri": "https://localhost:8080/",
     "height": 1000
    },
    "id": "wcsQPKVmwOm9",
    "outputId": "2b0121f4-f361-41e8-be0e-47c8dea91609"
   },
   "outputs": [
    {
     "data": {
      "image/png": "[encoded data removed]",
      "text/plain": [
       "<Figure size 800x600 with 1 Axes>"
      ]
     },
     "metadata": {},
     "output_type": "display_data"
    },
    {
     "data": {
      "image/png": "[encoded data removed]",
      "text/plain": [
       "<Figure size 800x600 with 1 Axes>"
      ]
     },
     "metadata": {},
     "output_type": "display_data"
    }
   ],
   "source": [
    "# Plot for the selected layer\n",
    "plot_pca(layer_weights_collection, \"PCA of Layer 1 Weights Across Runs\")\n",
    "\n",
    "# Plot for the entire model\n",
    "plot_pca(model_weights_collection, \"PCA of Entire Model Weights Across Runs\")"
   ]
  },
  {
   "cell_type": "code",
   "execution_count": null,
   "metadata": {},
   "outputs": [],
   "source": []
  }
 ],
 "metadata": {
  "colab": {
   "provenance": []
  },
  "kernelspec": {
   "display_name": "Python 3 (ipykernel)",
   "language": "python",
   "name": "python3"
  },
  "language_info": {
   "codemirror_mode": {
    "name": "ipython",
    "version": 3
   },
   "file_extension": ".py",
   "mimetype": "text/x-python",
   "name": "python",
   "nbconvert_exporter": "python",
   "pygments_lexer": "ipython3",
   "version": "3.10.12"
  }
 },
 "nbformat": 4,
 "nbformat_minor": 4
}
