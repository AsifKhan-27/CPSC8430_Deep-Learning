{
 "cells": [
  {
   "cell_type": "code",
   "execution_count": null,
   "id": "5d06dfca-35be-4aec-8788-239b614e04cc",
   "metadata": {},
   "outputs": [],
   "source": [
    "import numpy as np\n",
    "import matplotlib.pyplot as plt\n",
    "\n",
    "DCGAN = np.load('DC_FID.npy')\n",
    "WGANGP = np.load('WGANGP_FID.npy')\n",
    "ACGAN = np.load('ACGAN_FID.npy')\n",
    "\n",
    "plt.figure(figsize=(10,5))\n",
    "plt.title(\"FID Scores comparsions for DCGAN vs WGAN vs ACGAN\")\n",
    "plt.plot(DCGAN,label=\"DCGAN\")\n",
    "plt.plot(WGANGP,label=\"WGAN\",color='red')\n",
    "plt.plot(ACGAN,label=\"ACGAN\",color='green')\n",
    "plt.xlabel(\"Epochs\")\n",
    "plt.ylabel(\"FID\")\n",
    "plt.legend()\n",
    "plt.savefig('FID_summary.jpg', format='jpeg', dpi=100, bbox_inches='tight')\n",
    "plt.show()"
   ]
  }
 ],
 "metadata": {
  "kernelspec": {
   "display_name": "Python 3 (ipykernel)",
   "language": "python",
   "name": "python3"
  },
  "language_info": {
   "codemirror_mode": {
    "name": "ipython",
    "version": 3
   },
   "file_extension": ".py",
   "mimetype": "text/x-python",
   "name": "python",
   "nbconvert_exporter": "python",
   "pygments_lexer": "ipython3",
   "version": "3.7.13"
  }
 },
 "nbformat": 4,
 "nbformat_minor": 5
}
